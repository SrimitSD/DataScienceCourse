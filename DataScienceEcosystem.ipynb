{
 "cells": [
  {
   "cell_type": "markdown",
   "id": "849cb71f-cc5f-4f79-8608-129227f49fd9",
   "metadata": {},
   "source": [
    "# Data Science Tools and Ecosystem"
   ]
  },
  {
   "cell_type": "markdown",
   "id": "13af4f8e-818e-4346-ba28-d8369144f568",
   "metadata": {},
   "source": [
    "In this notebook, Data Science Tools and Ecosystem are summarized."
   ]
  },
  {
   "cell_type": "markdown",
   "id": "47dd94d5-3b9b-4cfc-9d57-8f5d20fa1b40",
   "metadata": {},
   "source": [
    "**Objectives:**\n",
    "- List popular languages for Data Science.\n",
    "- List commonly used libraries by Data Scientists.\n",
    "- List development environment open source tools used in data science.\n",
    "- Demonstrate a few examples of evaluating arithmatic expressions in Python. "
   ]
  },
  {
   "cell_type": "markdown",
   "id": "a3727e67-5e62-469d-aa7f-542612283d0e",
   "metadata": {},
   "source": [
    "Some of the popular languages that Data Scientists use are:\n",
    "1. Python\n",
    "2. R\n",
    "3. SQL"
   ]
  },
  {
   "cell_type": "markdown",
   "id": "91636ffe-aef3-4325-9ea6-22daa84bf089",
   "metadata": {},
   "source": [
    "Some of the commonly used libraries by Data Scientists include:\n",
    "1. Numpy\n",
    "2. Pandas\n",
    "3. Tensorflow\n",
    "4. Keras"
   ]
  },
  {
   "cell_type": "markdown",
   "id": "6a9fe233-d541-4e66-8231-2a351abcf3e8",
   "metadata": {},
   "source": [
    "| Data Science Tools |\n",
    "|--------------------|\n",
    "| Jupyter Notebooks |\n",
    "| R Studio |\n",
    "| KNIME |"
   ]
  },
  {
   "cell_type": "markdown",
   "id": "a10d44c5-f4d6-4bbb-8b8b-dee03c054015",
   "metadata": {},
   "source": [
    "### Below are a few examples of evaluating arithmetic expressions in Python"
   ]
  },
  {
   "cell_type": "code",
   "execution_count": 2,
   "id": "51a11b21-5509-4c73-9e89-43f14bb84067",
   "metadata": {},
   "outputs": [
    {
     "data": {
      "text/plain": [
       "17"
      ]
     },
     "execution_count": 2,
     "metadata": {},
     "output_type": "execute_result"
    }
   ],
   "source": [
    "# This a simple arithmetic expression to mutiply then add integers\n",
    "(3*4)+5"
   ]
  },
  {
   "cell_type": "code",
   "execution_count": 3,
   "id": "16b2e0c7-03c8-4177-886d-c07c3eea21d3",
   "metadata": {},
   "outputs": [
    {
     "data": {
      "text/plain": [
       "3.3333333333333335"
      ]
     },
     "execution_count": 3,
     "metadata": {},
     "output_type": "execute_result"
    }
   ],
   "source": [
    "# This will convert 200 minutes to hours by diving by 60\n",
    "200/60"
   ]
  },
  {
   "cell_type": "markdown",
   "id": "581caf00-62d5-4547-8b35-b9058f4733db",
   "metadata": {},
   "source": [
    "## Author\n",
    "Srimit Sritik Das"
   ]
  }
 ],
 "metadata": {
  "kernelspec": {
   "display_name": "Python 3 (ipykernel)",
   "language": "python",
   "name": "python3"
  },
  "language_info": {
   "codemirror_mode": {
    "name": "ipython",
    "version": 3
   },
   "file_extension": ".py",
   "mimetype": "text/x-python",
   "name": "python",
   "nbconvert_exporter": "python",
   "pygments_lexer": "ipython3",
   "version": "3.11.5"
  }
 },
 "nbformat": 4,
 "nbformat_minor": 5
}
